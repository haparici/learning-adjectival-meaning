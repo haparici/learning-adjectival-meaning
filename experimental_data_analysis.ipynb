{
 "cells": [
  {
   "cell_type": "markdown",
   "metadata": {},
   "source": [
    "# Experimental Data Analysis\n",
    "This is the data from the first trial through the Google Forms. We have 2 hypotheses, gradable and non-gradable, with a control and borderline group for 4 different versions"
   ]
  },
  {
   "cell_type": "code",
   "execution_count": 43,
   "metadata": {},
   "outputs": [],
   "source": [
    "import numpy as np\n",
    "import pandas as pd\n",
    "import os\n",
    "import matplotlib.pyplot as plt\n",
    "%matplotlib inline"
   ]
  },
  {
   "cell_type": "code",
   "execution_count": 41,
   "metadata": {},
   "outputs": [
    {
     "name": "stdout",
     "output_type": "stream",
     "text": [
      "Version 2 (Control)\n",
      "Version 3 (Borderline)\n",
      "Version 4 (Control)\n",
      "Version 1 (Borderline)\n"
     ]
    }
   ],
   "source": [
    "FORMS_DIR = \"data\"\n",
    "dfs = []\n",
    "for file in os.listdir(FORMS_DIR):\n",
    "    print(file[:-17])\n",
    "    df = pd.read_excel(FORMS_DIR+\"/\"+file)\n",
    "    df = df.drop(\"Enter your Kerberos to be entered into the Amazon gift card drawing!\",axis=1)\n",
    "    df[\"pelty\"]=df[\"Answer on a scale of 1-7, where 1 means you're certain it's not pelty and 7 means you're certain it's pelty. 4 means unsure.\"]\n",
    "    df = df.drop(\"Answer on a scale of 1-7, where 1 means you're certain it's not pelty and 7 means you're certain it's pelty. 4 means unsure.\",axis=1)\n",
    "    df[\"Timestamp\"]=pd.to_datetime(df[\"Timestamp\"])\n",
    "    dfs.append((file[:-17],df))\n",
    "dfs=sorted(dfs)\n",
    "    "
   ]
  },
  {
   "cell_type": "code",
   "execution_count": 68,
   "metadata": {},
   "outputs": [
    {
     "data": {
      "image/png": "[encoded data removed]",
      "text/plain": [
       "<Figure size 576x576 with 4 Axes>"
      ]
     },
     "metadata": {
      "needs_background": "light"
     },
     "output_type": "display_data"
    }
   ],
   "source": [
    "fig,axs = plt.subplots(2,2,figsize=(8,8))\n",
    "tups = [(0,0),(0,1),(1,0),(1,1)]\n",
    "means = []\n",
    "stds = []\n",
    "for i in range(len(dfs)):\n",
    "    name,df = dfs[i]\n",
    "    x,y = tups[i]\n",
    "    axs[x,y].set_title(name)\n",
    "    axs[x,y].set_xlabel(\"Peltyness\")\n",
    "    axs[x,y].set_ylabel(\"Frequency\")\n",
    "    axs[x,y].hist(df[\"pelty\"],bins=7)\n",
    "    means.append(df[\"pelty\"].describe()['mean'])\n",
    "    stds.append(df[\"pelty\"].describe()[\"std\"])\n",
    "plt.show()"
   ]
  },
  {
   "cell_type": "code",
   "execution_count": 71,
   "metadata": {},
   "outputs": [
    {
     "data": {
      "text/plain": [
       "0.5457227138643068"
      ]
     },
     "execution_count": 71,
     "metadata": {},
     "output_type": "execute_result"
    }
   ],
   "source": [
    "(4.274336283185841-1)/6"
   ]
  },
  {
   "cell_type": "code",
   "execution_count": 72,
   "metadata": {},
   "outputs": [
    {
     "data": {
      "text/plain": [
       "0.8539944903581267"
      ]
     },
     "execution_count": 72,
     "metadata": {},
     "output_type": "execute_result"
    }
   ],
   "source": [
    "(6.12396694214876-1)/6"
   ]
  },
  {
   "cell_type": "code",
   "execution_count": 73,
   "metadata": {},
   "outputs": [],
   "source": [
    "probs = [(m-1)/6 for m in means]"
   ]
  },
  {
   "cell_type": "code",
   "execution_count": 74,
   "metadata": {},
   "outputs": [
    {
     "data": {
      "text/plain": [
       "[0.5457227138643068, 0.8539944903581267, 0.8239700374531834, 0.861952861952862]"
      ]
     },
     "execution_count": 74,
     "metadata": {},
     "output_type": "execute_result"
    }
   ],
   "source": [
    "probs"
   ]
  },
  {
   "cell_type": "code",
   "execution_count": 82,
   "metadata": {},
   "outputs": [
    {
     "data": {
      "text/plain": [
       "(2, 4)"
      ]
     },
     "execution_count": 82,
     "metadata": {},
     "output_type": "execute_result"
    }
   ],
   "source": [
    "yerr = np.array([[0,0],[1,1],[2,2],[3,3]]).T\n",
    "yerr.shape"
   ]
  },
  {
   "cell_type": "code",
   "execution_count": 79,
   "metadata": {},
   "outputs": [
    {
     "data": {
      "image/png": "[encoded data removed]",
      "text/plain": [
       "<Figure size 432x288 with 1 Axes>"
      ]
     },
     "metadata": {
      "needs_background": "light"
     },
     "output_type": "display_data"
    }
   ],
   "source": [
    "plt.bar(['borderline 1','control 1','borderline 2','control 2'],probs,color=['r','b','r','b'])\n",
    "plt.ylim(0,1)\n",
    "# add error bars\n",
    "# statisical significant\n",
    "# 1 star = .05, 2 star = .01, 3 star = .001\n",
    "plt.show()"
   ]
  },
  {
   "cell_type": "code",
   "execution_count": 65,
   "metadata": {},
   "outputs": [],
   "source": [
    "# plot model outputs"
   ]
  },
  {
   "cell_type": "code",
   "execution_count": null,
   "metadata": {},
   "outputs": [],
   "source": []
  }
 ],
 "metadata": {
  "kernelspec": {
   "display_name": "Python 3",
   "language": "python",
   "name": "python3"
  },
  "language_info": {
   "codemirror_mode": {
    "name": "ipython",
    "version": 3
   },
   "file_extension": ".py",
   "mimetype": "text/x-python",
   "name": "python",
   "nbconvert_exporter": "python",
   "pygments_lexer": "ipython3",
   "version": "3.7.3"
  }
 },
 "nbformat": 4,
 "nbformat_minor": 2
}
