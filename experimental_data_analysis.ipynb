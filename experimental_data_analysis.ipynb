{
 "cells": [
  {
   "cell_type": "markdown",
   "metadata": {},
   "source": [
    "# Experimental Data Analysis\n",
    "This is the data from the first trial through the Google Forms. We have 2 hypotheses, gradable and non-gradable, with a control and borderline group for 4 different versions"
   ]
  },
  {
   "cell_type": "code",
   "execution_count": 217,
   "metadata": {},
   "outputs": [],
   "source": [
    "import numpy as np\n",
    "import pandas as pd\n",
    "import os\n",
    "import matplotlib.pyplot as plt\n",
    "from scipy.stats import shapiro,norm,ttest_ind, anderson\n",
    "from itertools import product\n",
    "%matplotlib inline"
   ]
  },
  {
   "cell_type": "code",
   "execution_count": 15,
   "metadata": {},
   "outputs": [
    {
     "name": "stdout",
     "output_type": "stream",
     "text": [
      "Version 2 (Control).csv\n",
      "Version 3 (Borderline).csv\n",
      "Version 1 (Borderline).csv\n",
      "Version 4 (Control).csv\n"
     ]
    }
   ],
   "source": [
    "FORMS_DIR = \"data\"\n",
    "dfs = []\n",
    "for file in os.listdir(FORMS_DIR):\n",
    "    print(file)\n",
    "    df = pd.read_csv(FORMS_DIR+\"/\"+file)\n",
    "    df = df.drop(\"Enter your Kerberos to be entered into the Amazon gift card drawing!\",axis=1)\n",
    "    df[\"pelty\"]=df[\"Answer on a scale of 1-7, where 1 means you're certain it's not pelty and 7 means you're certain it's pelty. 4 means unsure.\"]\n",
    "    df = df.drop(\"Answer on a scale of 1-7, where 1 means you're certain it's not pelty and 7 means you're certain it's pelty. 4 means unsure.\",axis=1)\n",
    "    df[\"Timestamp\"]=pd.to_datetime(df[\"Timestamp\"])\n",
    "    df = df[:100]\n",
    "    dfs.append((file[:-4],df))\n",
    "dfs=sorted(dfs)\n",
    "    "
   ]
  },
  {
   "cell_type": "code",
   "execution_count": 69,
   "metadata": {},
   "outputs": [
    {
     "data": {
      "text/html": [
       "<div>\n",
       "<style scoped>\n",
       "    .dataframe tbody tr th:only-of-type {\n",
       "        vertical-align: middle;\n",
       "    }\n",
       "\n",
       "    .dataframe tbody tr th {\n",
       "        vertical-align: top;\n",
       "    }\n",
       "\n",
       "    .dataframe thead th {\n",
       "        text-align: right;\n",
       "    }\n",
       "</style>\n",
       "<table border=\"1\" class=\"dataframe\">\n",
       "  <thead>\n",
       "    <tr style=\"text-align: right;\">\n",
       "      <th></th>\n",
       "      <th>Timestamp</th>\n",
       "      <th>pelty</th>\n",
       "    </tr>\n",
       "  </thead>\n",
       "  <tbody>\n",
       "    <tr>\n",
       "      <th>95</th>\n",
       "      <td>2019-12-04 00:51:58-05:00</td>\n",
       "      <td>5</td>\n",
       "    </tr>\n",
       "    <tr>\n",
       "      <th>96</th>\n",
       "      <td>2019-12-04 01:01:40-05:00</td>\n",
       "      <td>5</td>\n",
       "    </tr>\n",
       "    <tr>\n",
       "      <th>97</th>\n",
       "      <td>2019-12-04 01:13:19-05:00</td>\n",
       "      <td>5</td>\n",
       "    </tr>\n",
       "    <tr>\n",
       "      <th>98</th>\n",
       "      <td>2019-12-04 01:28:45-05:00</td>\n",
       "      <td>5</td>\n",
       "    </tr>\n",
       "    <tr>\n",
       "      <th>99</th>\n",
       "      <td>2019-12-04 06:33:15-05:00</td>\n",
       "      <td>6</td>\n",
       "    </tr>\n",
       "  </tbody>\n",
       "</table>\n",
       "</div>"
      ],
      "text/plain": [
       "                   Timestamp  pelty\n",
       "95 2019-12-04 00:51:58-05:00      5\n",
       "96 2019-12-04 01:01:40-05:00      5\n",
       "97 2019-12-04 01:13:19-05:00      5\n",
       "98 2019-12-04 01:28:45-05:00      5\n",
       "99 2019-12-04 06:33:15-05:00      6"
      ]
     },
     "execution_count": 69,
     "metadata": {},
     "output_type": "execute_result"
    }
   ],
   "source": [
    "dfs[0][1].tail()"
   ]
  },
  {
   "cell_type": "code",
   "execution_count": 257,
   "metadata": {},
   "outputs": [
    {
     "data": {
      "text/plain": [
       "(array([ 4.,  3.,  6., 14., 17., 16., 10., 18., 10.,  2.]),\n",
       " array([0.04708209, 0.74723414, 1.44738618, 2.14753823, 2.84769027,\n",
       "        3.54784232, 4.24799436, 4.94814641, 5.64829845, 6.3484505 ,\n",
       "        7.04860254]),\n",
       " <a list of 10 Patch objects>)"
      ]
     },
     "execution_count": 257,
     "metadata": {},
     "output_type": "execute_result"
    },
    {
     "data": {
      "image/png": "[encoded data removed]",
      "text/plain": [
       "<Figure size 432x288 with 1 Axes>"
      ]
     },
     "metadata": {
      "needs_background": "light"
     },
     "output_type": "display_data"
    }
   ],
   "source": [
    "a = np.random.normal(4, 1.4310764472870756, size=100)\n",
    "plt.hist(a)"
   ]
  },
  {
   "cell_type": "code",
   "execution_count": 210,
   "metadata": {},
   "outputs": [
    {
     "name": "stdout",
     "output_type": "stream",
     "text": [
      "{5: 26, 4: 21, 3: 18, 6: 17, 2: 13, 7: 4, 1: 1}\n",
      "{7: 51, 6: 33, 5: 8, 1: 3, 4: 2, 2: 2, 3: 1}\n",
      "{7: 40, 6: 34, 5: 19, 4: 4, 2: 2, 3: 1}\n",
      "{7: 48, 6: 38, 5: 8, 4: 2, 2: 2, 1: 2}\n"
     ]
    },
    {
     "data": {
      "image/png": "[encoded data removed]",
      "text/plain": [
       "<Figure size 576x576 with 4 Axes>"
      ]
     },
     "metadata": {
      "needs_background": "light"
     },
     "output_type": "display_data"
    }
   ],
   "source": [
    "fig,axs = plt.subplots(2,2,figsize=(8,8))\n",
    "tups = [(0,0),(0,1),(1,0),(1,1)]\n",
    "means = []\n",
    "probs = []\n",
    "stds = []\n",
    "prob_stds = []\n",
    "titles = [\"Borderline Gradable\", \"Control Gradable\", \"Borderline Non-gradable\", \"Control Non-gradable\"]\n",
    "for i in range(len(dfs)):\n",
    "    name,df = dfs[i]\n",
    "    x,y = tups[i]\n",
    "    axs[x,y].set_title(titles[i])\n",
    "    axs[x,y].set_xlabel(\"Peltyness Confidence\")\n",
    "    axs[x,y].set_ylabel(\"Frequency\")\n",
    "    axs[x,y].set_xticks([1,2,3,4,5,6,7])\n",
    "    \n",
    "    freqs = dict(df[\"pelty\"].value_counts())\n",
    "    print(freqs)\n",
    "    freq_vals = []\n",
    "    for i in range(7):\n",
    "        if i+1 in freqs:\n",
    "            freq_vals.append(freqs[i+1])\n",
    "        else:\n",
    "            freq_vals.append(0)\n",
    "    axs[x,y].bar(np.arange(1,8),freq_vals)\n",
    "    \n",
    "    means.append(df[\"pelty\"].describe()['mean'])\n",
    "    stds.append(df[\"pelty\"].describe()[\"std\"])    \n",
    "    probs.append(((df[\"pelty\"]-1)/6).describe()['mean'])\n",
    "    prob_stds.append(((df[\"pelty\"]-1)/6).describe()[\"std\"])\n",
    "plt.tight_layout()\n",
    "plt.savefig(\"imgs/experimental_graphs.png\")\n",
    "plt.show()"
   ]
  },
  {
   "cell_type": "code",
   "execution_count": 265,
   "metadata": {},
   "outputs": [],
   "source": [
    "# x = np.linspace(mean - 3*std, mean + 3*std, 100)\n",
    "expected_num = []\n",
    "for i in range(1,8):\n",
    "    expected_num.append(100*norm.pdf(i,4.25,1.4310764472870756))"
   ]
  },
  {
   "cell_type": "code",
   "execution_count": 266,
   "metadata": {},
   "outputs": [
    {
     "data": {
      "text/plain": [
       "[2.114977009452116,\n",
       " 8.099729169952163,\n",
       " 19.03598702839767,\n",
       " 27.454931116626735,\n",
       " 24.29994957219586,\n",
       " 13.198678248581489,\n",
       " 4.399421443128042]"
      ]
     },
     "execution_count": 266,
     "metadata": {},
     "output_type": "execute_result"
    }
   ],
   "source": [
    "expected_num"
   ]
  },
  {
   "cell_type": "code",
   "execution_count": 263,
   "metadata": {},
   "outputs": [
    {
     "data": {
      "text/plain": [
       "[<matplotlib.lines.Line2D at 0x1a2011a438>]"
      ]
     },
     "execution_count": 263,
     "metadata": {},
     "output_type": "execute_result"
    },
    {
     "data": {
      "image/png": "[encoded data removed]",
      "text/plain": [
       "<Figure size 432x288 with 1 Axes>"
      ]
     },
     "metadata": {
      "needs_background": "light"
     },
     "output_type": "display_data"
    }
   ],
   "source": [
    "plt.plot(np.linspace(1,7,7),expected)"
   ]
  },
  {
   "cell_type": "code",
   "execution_count": 272,
   "metadata": {},
   "outputs": [],
   "source": [
    "expected = []\n",
    "for i in range(len(expected_num)):\n",
    "    num = expected_num[i]\n",
    "    expected = expected + int(round(num)) * [i+1]\n",
    "\n",
    "expected = expected + [7,4,5]"
   ]
  },
  {
   "cell_type": "code",
   "execution_count": 279,
   "metadata": {},
   "outputs": [
    {
     "data": {
      "text/plain": [
       "(array([1, 2, 3, 4, 5, 6, 7]), array([ 2,  8, 19, 28, 25, 13,  5]))"
      ]
     },
     "execution_count": 279,
     "metadata": {},
     "output_type": "execute_result"
    }
   ],
   "source": []
  },
  {
   "cell_type": "code",
   "execution_count": 290,
   "metadata": {},
   "outputs": [
    {
     "data": {
      "image/png": "[encoded data removed]",
      "text/plain": [
       "<Figure size 432x288 with 1 Axes>"
      ]
     },
     "metadata": {
      "needs_background": "light"
     },
     "output_type": "display_data"
    }
   ],
   "source": [
    "x,y=np.unique(np.array(expected),return_counts=True)\n",
    "plt.title(\"Expected Distribution With Experimental Mean/SD Normally Distributed\")\n",
    "plt.xlabel(\"Peltyness\")\n",
    "plt.ylabel(\"Frequency\")\n",
    "plt.bar(x,y)\n",
    "plt.savefig(\"imgs/chi_square.png\")\n",
    "plt.show()"
   ]
  },
  {
   "cell_type": "code",
   "execution_count": 285,
   "metadata": {},
   "outputs": [
    {
     "data": {
      "text/plain": [
       "(array([ 1., 13., 18., 21., 26., 17.,  4.]),\n",
       " array([1.        , 1.85714286, 2.71428571, 3.57142857, 4.42857143,\n",
       "        5.28571429, 6.14285714, 7.        ]),\n",
       " <a list of 7 Patch objects>)"
      ]
     },
     "execution_count": 285,
     "metadata": {},
     "output_type": "execute_result"
    },
    {
     "data": {
      "image/png": "[encoded data removed]",
      "text/plain": [
       "<Figure size 432x288 with 1 Axes>"
      ]
     },
     "metadata": {
      "needs_background": "light"
     },
     "output_type": "display_data"
    }
   ],
   "source": [
    "plt.hist(dfs[0][1]['pelty'],bins=7)"
   ]
  },
  {
   "cell_type": "code",
   "execution_count": 289,
   "metadata": {},
   "outputs": [
    {
     "data": {
      "text/plain": [
       "Power_divergenceResult(statistic=130.33809523809526, pvalue=0.01903751680178324)"
      ]
     },
     "execution_count": 289,
     "metadata": {},
     "output_type": "execute_result"
    }
   ],
   "source": [
    "from scipy.stats import chisquare\n",
    "chisquare(dfs[0][1]['pelty'], f_exp=expected)"
   ]
  },
  {
   "cell_type": "code",
   "execution_count": 255,
   "metadata": {},
   "outputs": [
    {
     "data": {
      "text/plain": [
       "[1.4310764472870756,\n",
       " 1.3532975066163917,\n",
       " 1.0822722075860272,\n",
       " 1.2008414558217917]"
      ]
     },
     "execution_count": 255,
     "metadata": {},
     "output_type": "execute_result"
    }
   ],
   "source": [
    "stds\n",
    "\n"
   ]
  },
  {
   "cell_type": "code",
   "execution_count": 214,
   "metadata": {},
   "outputs": [
    {
     "data": {
      "text/plain": [
       "[0.23851274121451263,\n",
       " 0.22554958443606518,\n",
       " 0.18037870126433778,\n",
       " 0.20014024263696525]"
      ]
     },
     "execution_count": 214,
     "metadata": {},
     "output_type": "execute_result"
    }
   ],
   "source": [
    "prob_stds"
   ]
  },
  {
   "cell_type": "code",
   "execution_count": 161,
   "metadata": {},
   "outputs": [
    {
     "data": {
      "text/plain": [
       "5    26\n",
       "4    21\n",
       "3    18\n",
       "6    17\n",
       "2    13\n",
       "7     4\n",
       "1     1\n",
       "Name: pelty, dtype: int64"
      ]
     },
     "execution_count": 161,
     "metadata": {},
     "output_type": "execute_result"
    }
   ],
   "source": [
    "dfs[0][1]['pelty'].value_counts()"
   ]
  },
  {
   "cell_type": "code",
   "execution_count": 219,
   "metadata": {},
   "outputs": [
    {
     "data": {
      "text/plain": [
       "AndersonResult(statistic=2.442759593016632, critical_values=array([0.555, 0.632, 0.759, 0.885, 1.053]), significance_level=array([15. , 10. ,  5. ,  2.5,  1. ]))"
      ]
     },
     "execution_count": 219,
     "metadata": {},
     "output_type": "execute_result"
    }
   ],
   "source": [
    "anderson(dfs[0][1]['pelty'])"
   ]
  },
  {
   "cell_type": "code",
   "execution_count": 224,
   "metadata": {},
   "outputs": [
    {
     "data": {
      "text/plain": [
       "AndersonResult(statistic=33.17136414501684, critical_values=array([0.917, 1.072, 1.333, 1.596, 1.945]), significance_level=array([15. , 10. ,  5. ,  2.5,  1. ]))"
      ]
     },
     "execution_count": 224,
     "metadata": {},
     "output_type": "execute_result"
    }
   ],
   "source": [
    "anderson(dfs[3][1]['pelty'],dist='expon')"
   ]
  },
  {
   "cell_type": "code",
   "execution_count": 232,
   "metadata": {},
   "outputs": [
    {
     "data": {
      "text/plain": [
       "(0.9389769434928894, 0.0001670823257882148)"
      ]
     },
     "execution_count": 232,
     "metadata": {},
     "output_type": "execute_result"
    }
   ],
   "source": [
    "shapiro(dfs[0][1]['pelty'])"
   ]
  },
  {
   "cell_type": "code",
   "execution_count": 247,
   "metadata": {},
   "outputs": [
    {
     "data": {
      "text/plain": [
       "count    100.000000\n",
       "mean       4.250000\n",
       "std        1.431076\n",
       "min        1.000000\n",
       "25%        3.000000\n",
       "50%        4.000000\n",
       "75%        5.000000\n",
       "max        7.000000\n",
       "Name: pelty, dtype: float64"
      ]
     },
     "execution_count": 247,
     "metadata": {},
     "output_type": "execute_result"
    }
   ],
   "source": [
    "dfs[0][1]['pelty'].describe()"
   ]
  },
  {
   "cell_type": "code",
   "execution_count": 251,
   "metadata": {},
   "outputs": [
    {
     "data": {
      "image/png": "[encoded data removed]",
      "text/plain": [
       "<Figure size 432x288 with 1 Axes>"
      ]
     },
     "metadata": {
      "needs_background": "light"
     },
     "output_type": "display_data"
    }
   ],
   "source": [
    "from statsmodels.graphics.gofplots import qqplot\n",
    "qqplot(dfs[0][1]['pelty'],line='s')\n",
    "plt.savefig(\"imgs/qq.png\")"
   ]
  },
  {
   "cell_type": "code",
   "execution_count": 236,
   "metadata": {},
   "outputs": [
    {
     "data": {
      "text/plain": [
       "(array([ 1.,  0.,  0., 13.,  0., 18.,  0., 21., 26., 21.]),\n",
       " array([0.        , 0.19459101, 0.38918203, 0.58377304, 0.77836406,\n",
       "        0.97295507, 1.16754609, 1.3621371 , 1.55672812, 1.75131913,\n",
       "        1.94591015]),\n",
       " <a list of 10 Patch objects>)"
      ]
     },
     "execution_count": 236,
     "metadata": {},
     "output_type": "execute_result"
    },
    {
     "data": {
      "image/png": "[encoded data removed]",
      "text/plain": [
       "<Figure size 432x288 with 1 Axes>"
      ]
     },
     "metadata": {
      "needs_background": "light"
     },
     "output_type": "display_data"
    }
   ],
   "source": [
    "plt.hist(np.log(dfs[0][1]['pelty']))"
   ]
  },
  {
   "cell_type": "code",
   "execution_count": 163,
   "metadata": {},
   "outputs": [
    {
     "data": {
      "text/plain": [
       "(4.25, 1.4310764472870756)"
      ]
     },
     "execution_count": 163,
     "metadata": {},
     "output_type": "execute_result"
    }
   ],
   "source": [
    "mean = means[0]\n",
    "std = stds[0]\n",
    "mean,std"
   ]
  },
  {
   "cell_type": "code",
   "execution_count": 258,
   "metadata": {},
   "outputs": [
    {
     "data": {
      "text/plain": [
       "2.114977009452116"
      ]
     },
     "execution_count": 258,
     "metadata": {},
     "output_type": "execute_result"
    }
   ],
   "source": []
  },
  {
   "cell_type": "code",
   "execution_count": null,
   "metadata": {},
   "outputs": [],
   "source": []
  },
  {
   "cell_type": "code",
   "execution_count": 292,
   "metadata": {},
   "outputs": [
    {
     "name": "stdout",
     "output_type": "stream",
     "text": [
      "{5: 26, 4: 21, 3: 18, 6: 17, 2: 13, 7: 4, 1: 1}\n"
     ]
    },
    {
     "data": {
      "image/png": "[encoded data removed]",
      "text/plain": [
       "<Figure size 432x288 with 1 Axes>"
      ]
     },
     "metadata": {
      "needs_background": "light"
     },
     "output_type": "display_data"
    }
   ],
   "source": [
    "df = dfs[0][1]\n",
    "freqs = dict(df[\"pelty\"].value_counts())\n",
    "print(freqs)\n",
    "freq_vals = []\n",
    "for i in range(7):\n",
    "    if i+1 in freqs:\n",
    "        freq_vals.append(freqs[i+1])\n",
    "    else:\n",
    "        freq_vals.append(0)\n",
    "plt.bar(np.arange(1,8),freq_vals)\n",
    "plt.ylabel(\"Frequency\")\n",
    "plt.xlabel(\"Peltyness Confidence\")\n",
    "plt.title(\"Borderline Gradable Case with Normal Curve\")\n",
    "x = np.linspace(mean - 3*std, mean + 3*std, 100)\n",
    "plt.plot(x,100*norm.pdf(x,mean,std),color='r')\n",
    "plt.savefig(\"imgs/shapiro.png\")\n",
    "plt.show()"
   ]
  },
  {
   "cell_type": "code",
   "execution_count": 165,
   "metadata": {},
   "outputs": [
    {
     "data": {
      "text/plain": [
       "0.5457227138643068"
      ]
     },
     "execution_count": 165,
     "metadata": {},
     "output_type": "execute_result"
    }
   ],
   "source": [
    "(4.274336283185841-1)/6"
   ]
  },
  {
   "cell_type": "code",
   "execution_count": 166,
   "metadata": {},
   "outputs": [
    {
     "data": {
      "text/plain": [
       "0.8539944903581267"
      ]
     },
     "execution_count": 166,
     "metadata": {},
     "output_type": "execute_result"
    }
   ],
   "source": [
    "(6.12396694214876-1)/6"
   ]
  },
  {
   "cell_type": "code",
   "execution_count": 167,
   "metadata": {},
   "outputs": [],
   "source": [
    "probs = [(m-1)/6 for m in means]"
   ]
  },
  {
   "cell_type": "code",
   "execution_count": 168,
   "metadata": {},
   "outputs": [
    {
     "data": {
      "text/plain": [
       "[0.5416666666666666, 0.855, 0.8366666666666666, 0.8633333333333333]"
      ]
     },
     "execution_count": 168,
     "metadata": {},
     "output_type": "execute_result"
    }
   ],
   "source": [
    "probs"
   ]
  },
  {
   "cell_type": "code",
   "execution_count": 169,
   "metadata": {},
   "outputs": [
    {
     "data": {
      "text/plain": [
       "(2, 4)"
      ]
     },
     "execution_count": 169,
     "metadata": {},
     "output_type": "execute_result"
    }
   ],
   "source": [
    "yerr = np.array([[0,0],[1,1],[2,2],[3,3]]).T\n",
    "yerr.shape"
   ]
  },
  {
   "cell_type": "code",
   "execution_count": 204,
   "metadata": {},
   "outputs": [
    {
     "data": {
      "text/plain": [
       "[2.047979797979798, 1.8314141414141427, 1.1713131313131326, 1.4420202020202]"
      ]
     },
     "execution_count": 204,
     "metadata": {},
     "output_type": "execute_result"
    }
   ],
   "source": [
    "varss = [s**2 for s in stds]\n",
    "varss"
   ]
  },
  {
   "cell_type": "code",
   "execution_count": 205,
   "metadata": {},
   "outputs": [
    {
     "data": {
      "text/plain": [
       "[0.3413299663299663, 0.30523569023569047, 0.19521885521885543, 0.2403367003367]"
      ]
     },
     "execution_count": 205,
     "metadata": {},
     "output_type": "execute_result"
    }
   ],
   "source": [
    "varss_norm = [v/6 for v in varss]\n",
    "varss_norm"
   ]
  },
  {
   "cell_type": "code",
   "execution_count": 207,
   "metadata": {},
   "outputs": [
    {
     "data": {
      "text/plain": [
       "[0.5842345131280472,\n",
       " 0.5524813935651502,\n",
       " 0.44183577856354667,\n",
       " 0.4902414714573829]"
      ]
     },
     "execution_count": 207,
     "metadata": {},
     "output_type": "execute_result"
    }
   ],
   "source": [
    "[v**0.5 for v in varss_norm]"
   ]
  },
  {
   "cell_type": "code",
   "execution_count": 208,
   "metadata": {},
   "outputs": [
    {
     "data": {
      "text/plain": [
       "[0.5842345131280472, 0.5524813935651504, 0.4418357785635467, 0.490241471457383]"
      ]
     },
     "execution_count": 208,
     "metadata": {},
     "output_type": "execute_result"
    }
   ],
   "source": [
    "[s/6**0.5 for s in stds]"
   ]
  },
  {
   "cell_type": "code",
   "execution_count": 171,
   "metadata": {},
   "outputs": [
    {
     "data": {
      "text/plain": [
       "[4.25, 6.13, 6.02, 6.18]"
      ]
     },
     "execution_count": 171,
     "metadata": {},
     "output_type": "execute_result"
    }
   ],
   "source": [
    "means"
   ]
  },
  {
   "cell_type": "code",
   "execution_count": 172,
   "metadata": {},
   "outputs": [],
   "source": [
    "computational_results = [.34078, .99268, .97422, .99718] "
   ]
  },
  {
   "cell_type": "code",
   "execution_count": 173,
   "metadata": {},
   "outputs": [
    {
     "data": {
      "text/plain": [
       "[0.5416666666666666, 0.855, 0.8366666666666666, 0.8633333333333333]"
      ]
     },
     "execution_count": 173,
     "metadata": {},
     "output_type": "execute_result"
    }
   ],
   "source": [
    "probs"
   ]
  },
  {
   "cell_type": "code",
   "execution_count": 174,
   "metadata": {},
   "outputs": [],
   "source": [
    "hypotheses = ['Borderline\\nGradable','Control\\nGradable','Borderline\\nNon-gradable','Control\\nNon-gradable']\n",
    "groups = ['Experimental', 'Computational']\n",
    "lst = []\n",
    "for tup in list(product(hypotheses,groups)):\n",
    "    h,g = tup\n",
    "    index = hypotheses.index(h)\n",
    "    if g == \"Experimental\":\n",
    "        value = probs[index]\n",
    "    else:\n",
    "        value = computational_results[index]\n",
    "    lst.append([h,g,value])\n",
    "\n",
    "\n"
   ]
  },
  {
   "cell_type": "code",
   "execution_count": 192,
   "metadata": {},
   "outputs": [
    {
     "data": {
      "text/plain": [
       "[4.25, 6.13, 6.02, 6.18]"
      ]
     },
     "execution_count": 192,
     "metadata": {},
     "output_type": "execute_result"
    }
   ],
   "source": [
    "means"
   ]
  },
  {
   "cell_type": "code",
   "execution_count": 216,
   "metadata": {},
   "outputs": [
    {
     "data": {
      "image/png": "[encoded data removed]",
      "text/plain": [
       "<Figure size 432x288 with 1 Axes>"
      ]
     },
     "metadata": {
      "needs_background": "light"
     },
     "output_type": "display_data"
    }
   ],
   "source": [
    "df = pd.DataFrame(lst,columns=['Hypothesis','Group','Value'])\n",
    "df.pivot('Hypothesis','Group','Value').plot(kind='bar',yerr=np.array([[0,0,0,0],prob_stds]))\n",
    "plt.ylim(0,1.4)\n",
    "plt.yticks(np.arange(6)/5)\n",
    "plt.title(\"Experimental Data vs. Computational Model\")\n",
    "plt.ylabel(\"P(Pelty)\")\n",
    "plt.tight_layout()\n",
    "plt.savefig(\"imgs/exp_vs_comp.png\")\n",
    "plt.show()"
   ]
  },
  {
   "cell_type": "code",
   "execution_count": 215,
   "metadata": {},
   "outputs": [
    {
     "data": {
      "text/plain": [
       "[0.23851274121451263,\n",
       " 0.22554958443606518,\n",
       " 0.18037870126433778,\n",
       " 0.20014024263696525]"
      ]
     },
     "execution_count": 215,
     "metadata": {},
     "output_type": "execute_result"
    }
   ],
   "source": [
    "prob_stds"
   ]
  },
  {
   "cell_type": "code",
   "execution_count": 198,
   "metadata": {},
   "outputs": [
    {
     "data": {
      "image/png": "[encoded data removed]",
      "text/plain": [
       "<Figure size 432x288 with 1 Axes>"
      ]
     },
     "metadata": {
      "needs_background": "light"
     },
     "output_type": "display_data"
    }
   ],
   "source": [
    "plt.bar(['Borderline\\nGradable','Control\\nGradable','Borderline\\nNon-gradable','Control\\nNon-gradable'],means,color=['g','b','g','b'],yerr=[s for s in stds])\n",
    "# plt.ylim(0,1)\n",
    "plt.ylabel(\"P(peltyness)\")\n",
    "# plt.errorbar(1,0.54,0.4)\n",
    "# add error bars\n",
    "# statisical significant\n",
    "# 1 star = .05, 2 star = .01, 3 star = .001\n",
    "plt.savefig(\"imgs/average_exp.png\")\n",
    "plt.show()"
   ]
  },
  {
   "cell_type": "code",
   "execution_count": 65,
   "metadata": {},
   "outputs": [],
   "source": [
    "# plot model outputs"
   ]
  },
  {
   "cell_type": "markdown",
   "metadata": {},
   "source": [
    "# Hypothesis Testing"
   ]
  },
  {
   "cell_type": "code",
   "execution_count": 187,
   "metadata": {},
   "outputs": [
    {
     "data": {
      "text/plain": [
       "Ttest_indResult(statistic=-0.9897433186107879, pvalue=0.32352049977012387)"
      ]
     },
     "execution_count": 187,
     "metadata": {},
     "output_type": "execute_result"
    }
   ],
   "source": [
    "ttest_ind(dfs[2][1]['pelty'],dfs[3][1]['pelty'],equal_var=False)"
   ]
  },
  {
   "cell_type": "code",
   "execution_count": null,
   "metadata": {},
   "outputs": [],
   "source": []
  }
 ],
 "metadata": {
  "kernelspec": {
   "display_name": "Python 3",
   "language": "python",
   "name": "python3"
  },
  "language_info": {
   "codemirror_mode": {
    "name": "ipython",
    "version": 3
   },
   "file_extension": ".py",
   "mimetype": "text/x-python",
   "name": "python",
   "nbconvert_exporter": "python",
   "pygments_lexer": "ipython3",
   "version": "3.7.3"
  }
 },
 "nbformat": 4,
 "nbformat_minor": 2
}
